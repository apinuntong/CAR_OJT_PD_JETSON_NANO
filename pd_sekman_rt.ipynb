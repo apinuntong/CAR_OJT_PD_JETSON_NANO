{
 "cells": [
  {
   "cell_type": "code",
   "execution_count": 1,
   "metadata": {},
   "outputs": [
    {
     "name": "stderr",
     "output_type": "stream",
     "text": [
      "Using TensorFlow backend.\n"
     ]
    },
    {
     "name": "stdout",
     "output_type": "stream",
     "text": [
      "WARNING:tensorflow:\n",
      "The TensorFlow contrib module will not be included in TensorFlow 2.0.\n",
      "For more information, please see:\n",
      "  * https://github.com/tensorflow/community/blob/master/rfcs/20180907-contrib-sunset.md\n",
      "  * https://github.com/tensorflow/addons\n",
      "  * https://github.com/tensorflow/io (for I/O related ops)\n",
      "If you depend on functionality not listed there, please file an issue.\n",
      "\n",
      "WARNING:tensorflow:From <ipython-input-1-9380d303ea41>:22: FastGFile.__init__ (from tensorflow.python.platform.gfile) is deprecated and will be removed in a future version.\n",
      "Instructions for updating:\n",
      "Use tf.gfile.GFile.\n",
      "input_tensor_name: input_1:0\n",
      "output_tensor_name: activation_1/truediv:0\n"
     ]
    }
   ],
   "source": [
    "from keras_segmentation.predict import predict,model_from_checkpoint_path\n",
    "from keras_segmentation.models.config import IMAGE_ORDERING\n",
    "import ipywidgets\n",
    "from IPython.display import display, clear_output\n",
    "import cv2\n",
    "import numpy as np\n",
    "from jetcam.csi_camera import CSICamera\n",
    "import time\n",
    "def bgr8_to_jpeg(value, quality=75):\n",
    "    return bytes(cv2.imencode('.jpg', value)[1])\n",
    "\n",
    "\n",
    "output_names = ['activation_1/truediv']\n",
    "input_names = ['input_1']\n",
    "\n",
    "import tensorflow.contrib.tensorrt as trt\n",
    "import tensorflow as tf\n",
    "\n",
    "\n",
    "def get_frozen_graph(graph_file):\n",
    "    \"\"\"Read Frozen Graph file from disk.\"\"\"\n",
    "    with tf.gfile.FastGFile(graph_file, \"rb\") as f:\n",
    "        graph_def = tf.GraphDef()\n",
    "        graph_def.ParseFromString(f.read())\n",
    "    return graph_def\n",
    "\n",
    "\n",
    "# trt_graph = get_frozen_graph('./output/mobilenet_75_segnet_tongtest_6_minimum_segment_size3.pb')\n",
    "trt_graph = get_frozen_graph('./output2/mobilenetV1_75_segnet_tongtest.pb')\n",
    "# trt_graph = get_frozen_graph('tftrt_inference.pb')\n",
    "# Create session and load graph\n",
    "\n",
    "tf_config = tf.ConfigProto()\n",
    "tf_config.gpu_options.allow_growth = True\n",
    "tf_sess = tf.Session(config=tf_config)\n",
    "tf.import_graph_def(trt_graph, name='')\n",
    "\n",
    "\n",
    "# Get graph input size\n",
    "for node in trt_graph.node:\n",
    "    if 'input_' in node.name:\n",
    "        size = node.attr['shape'].shape\n",
    "        image_size = [size.dim[i].size for i in range(1, 4)]\n",
    "        break\n",
    "# print(\"image_size: {}\".format(image_size))\n",
    "\n",
    "\n",
    "# input and output tensor names.\n",
    "input_tensor_name = input_names[0] + \":0\"\n",
    "output_tensor_name = output_names[0] + \":0\"\n",
    "\n",
    "print(\"input_tensor_name: {}\\noutput_tensor_name: {}\".format(\n",
    "    input_tensor_name, output_tensor_name))\n",
    "\n",
    "output_tensor = tf_sess.graph.get_tensor_by_name(output_tensor_name)\n",
    "\n",
    "def bgr8_to_jpeg(value, quality=75):\n",
    "    return bytes(cv2.imencode('.jpg', value)[1])\n",
    "\n",
    "def predict(_image) :\n",
    "    _x = np.expand_dims(_image, axis=0)\n",
    "#     _x = preprocess_input(_x)\n",
    "    feed_dict = {\n",
    "    input_tensor_name: _x\n",
    "    }\n",
    "    _netout = tf_sess.run(output_tensor, feed_dict)\n",
    "    return _netout"
   ]
  },
  {
   "cell_type": "code",
   "execution_count": 2,
   "metadata": {},
   "outputs": [],
   "source": [
    "def get_image_array(image_input, width, height, imgNorm=\"sub_mean\",\n",
    "                  ordering='channels_first'):\n",
    "    \"\"\" Load image array from input \"\"\"\n",
    "\n",
    "    if type(image_input) is np.ndarray:\n",
    "        # It is already an array, use it as it is\n",
    "        img = image_input\n",
    "    elif  isinstance(image_input, six.string_types)  :\n",
    "        if not os.path.isfile(image_input):\n",
    "            raise DataLoaderError(\"get_image_array: path {0} doesn't exist\".format(image_input))\n",
    "        img = cv2.imread(image_input, 1)\n",
    "    else:\n",
    "        raise DataLoaderError(\"get_image_array: Can't process input type {0}\".format(str(type(image_input))))\n",
    "\n",
    "    if imgNorm == \"sub_and_divide\":\n",
    "        img = np.float32(cv2.resize(img, (width, height))) / 127.5 - 1\n",
    "    elif imgNorm == \"sub_mean\":\n",
    "        img = cv2.resize(img, (width, height))\n",
    "        img = img.astype(np.float32)\n",
    "        img[:, :, 0] -= 103.939\n",
    "        img[:, :, 1] -= 116.779\n",
    "        img[:, :, 2] -= 123.68\n",
    "        img = img[:, :, ::-1]\n",
    "    elif imgNorm == \"divide\":\n",
    "        img = cv2.resize(img, (width, height))\n",
    "        img = img.astype(np.float32)\n",
    "        img = img/255.0\n",
    "\n",
    "    if ordering == 'channels_first':\n",
    "        img = np.rollaxis(img, 2, 0)\n",
    "    return img"
   ]
  },
  {
   "cell_type": "code",
   "execution_count": 3,
   "metadata": {},
   "outputs": [],
   "source": [
    "import busio\n",
    "import board\n",
    "import struct\n",
    "from adafruit_bus_device.i2c_device import I2CDevice\n",
    "camera = CSICamera(width=320, height=240, capture_width=320, capture_height=240, capture_fps=60)\n",
    "DEVICE_ADDRESS = 0x12\n",
    "comm_port = busio.I2C(board.SCL, board.SDA)\n",
    "bus_device = I2CDevice(comm_port, DEVICE_ADDRESS)\n",
    "\n"
   ]
  },
  {
   "cell_type": "code",
   "execution_count": 4,
   "metadata": {},
   "outputs": [],
   "source": [
    "# from car_lib import *\n",
    "# def find_target_point(imag_1234,y_pol = 60):\n",
    "#     xxxcccv =0 \n",
    "#     xxxcccv_b =0 \n",
    "#     px_x = 0\n",
    "    \n",
    "#     path_geny = np.zeros((1,2))\n",
    "\n",
    "#     px_x = 0\n",
    "#     prx = imag_1234[y_pol:y_pol+1][0:64]\n",
    "#     for c in range(len(prx[0])) :\n",
    "#         xxxcccv = prx[0][c]\n",
    "#         if xxxcccv == 4 and xxxcccv_b == 3 :\n",
    "#             px_x = c\n",
    "        \n",
    "#         xxxcccv_b = xxxcccv\n",
    "\n",
    "#     if px_x != 0 :\n",
    "#         _pts = np.float32([[[px_x*2.5, y_pol*1.875]]])\n",
    "#         _dst = cv2.perspectiveTransform(_pts, perspective_M)\n",
    "#         _dst = _dst[0][0]\n",
    "\n",
    "#         path_geny[0][0] =_dst[0]\n",
    "#         path_geny[0][1] =_dst[1]\n",
    "#     else :\n",
    "#         path_geny[0][0] =0\n",
    "#         path_geny[0][1] =0\n",
    "#     y_pol = y_pol+5\n",
    "#     return  path_geny \n"
   ]
  },
  {
   "cell_type": "code",
   "execution_count": 5,
   "metadata": {},
   "outputs": [],
   "source": [
    "def PersTransform():\n",
    "    ## scale = 1,2,4 // 640,320,160,\n",
    "    scale = 2\n",
    "    src = np.float32([(206/scale,111/scale), (112/scale,105/scale), (65/scale,187/scale), (258/scale,190/scale)])\n",
    "#     src = np.float32([(202/scale,82/scale), (122/scale,82/scale), (81/scale,160/scale), (242/scale,160/scale)])\n",
    "\n",
    "    scale = 4\n",
    "    sx =320/scale\n",
    "    sy = 140/scale\n",
    "    a4_width = 120/scale\n",
    "    a4_height = 270/scale\n",
    "    dst = np.float32([(sx+a4_width, sy), (sx-a4_width, sy), (sx-a4_width,sy+a4_height), (sx+a4_width,sy+a4_height) ])\n",
    "    M = cv2.getPerspectiveTransform(src, dst)\n",
    "    return  M\n"
   ]
  },
  {
   "cell_type": "code",
   "execution_count": 6,
   "metadata": {},
   "outputs": [],
   "source": [
    "def find_target_point(imag_1234,y_pol = 60,y_pollan = 30):\n",
    "    xxxcccv =0 \n",
    "    xxxcccv_b =0 \n",
    "    px_x = 0\n",
    "\n",
    "    path_geny = np.zeros((3,2))\n",
    "\n",
    "    px_x = 0\n",
    "    OBJ5 = 0 \n",
    "    OBJ5_num = 0\n",
    "    OBJ5 = 0 \n",
    "    OBJ5_num = 0\n",
    "    LANDR = 0 \n",
    "    LANDR_num = 0\n",
    "    LANDB = 0 \n",
    "    LANDB_num = 0\n",
    "    prx = imag_1234[y_pol:y_pol+1][0:64]\n",
    "    for c in range(len(prx[0])) :\n",
    "        xxxcccv = prx[0][c]\n",
    "        \n",
    "        if imag_1234[y_pollan][c] == 4 :\n",
    "            LANDB_num=LANDB_num+1\n",
    "            LANDB = LANDB+c\n",
    "        if imag_1234[y_pollan][c] == 3 :\n",
    "            LANDR_num=LANDR_num+1\n",
    "            LANDR = LANDR+ c\n",
    "        if xxxcccv == 5 :\n",
    "            OBJ5_num=OBJ5_num+1\n",
    "            OBJ5 = OBJ5+c\n",
    "\n",
    "    if LANDR_num != 0 :\n",
    "        LANDR = LANDR/LANDR_num\n",
    "    if LANDB_num != 0 :\n",
    "        LANDB = LANDB/LANDB_num\n",
    "    if OBJ5_num != 0 :\n",
    "        OBJ5 = OBJ5/OBJ5_num\n",
    "        ypic = 64 - y_pol\n",
    "        for zxc in range(ypic) :\n",
    "            if(imag_1234[zxc+y_pol][int(OBJ5)] == 4) :\n",
    "                path_geny[2][0] = 1\n",
    "                break\n",
    "            if(imag_1234[zxc+y_pol][int(OBJ5)] == 3) :\n",
    "                path_geny[2][0] = 2\n",
    "                break\n",
    "            if(imag_1234[zxc+y_pol][int(OBJ5)] == 2) :\n",
    "                path_geny[2][0] = 0\n",
    "                break\n",
    "\n",
    "    # if px_x != 0 :\n",
    "    _ptsR = np.float32([[[LANDR*2.5, y_pollan*1.875]]])\n",
    "    _ptsB = np.float32([[[LANDB*2.5, y_pollan*1.875]]])\n",
    "    _dstR = cv2.perspectiveTransform(_ptsR, PersTransform())\n",
    "    _dstB = cv2.perspectiveTransform(_ptsB, PersTransform())\n",
    "    _dstR = _dstR[0][0]\n",
    "    _dstB = _dstB[0][0]\n",
    "\n",
    "    if LANDR != 0 :\n",
    "        path_geny[0][0] =_dstR[0]\n",
    "        path_geny[0][1] = LANDR_num\n",
    "    else :\n",
    "        path_geny[0][0] =0\n",
    "\n",
    "    if LANDB != 0 :\n",
    "        path_geny[1][0] =_dstB[0]\n",
    "        path_geny[1][1] = LANDB_num\n",
    "    else :\n",
    "        path_geny[1][0] =0\n",
    "        \n",
    "    return  path_geny"
   ]
  },
  {
   "cell_type": "code",
   "execution_count": 7,
   "metadata": {},
   "outputs": [
    {
     "data": {
      "application/vnd.jupyter.widget-view+json": {
       "model_id": "47d544f214614550b63c68c5947978f8",
       "version_major": 2,
       "version_minor": 0
      },
      "text/plain": [
       "Image(value=b'', format='jpeg')"
      ]
     },
     "metadata": {},
     "output_type": "display_data"
    },
    {
     "data": {
      "application/vnd.jupyter.widget-view+json": {
       "model_id": "e4696abf851944719006c259a2538098",
       "version_major": 2,
       "version_minor": 0
      },
      "text/plain": [
       "Image(value=b'', format='jpeg')"
      ]
     },
     "metadata": {},
     "output_type": "display_data"
    },
    {
     "data": {
      "application/vnd.jupyter.widget-view+json": {
       "model_id": "e20ac5771ab44d33b15f8f4d9c11471c",
       "version_major": 2,
       "version_minor": 0
      },
      "text/plain": [
       "Label(value='number')"
      ]
     },
     "metadata": {},
     "output_type": "display_data"
    }
   ],
   "source": [
    "import ipywidgets\n",
    "from IPython.display import display\n",
    "import cv2\n",
    "\n",
    "def car_control(speed, steering):\n",
    "    if speed > 30000:\n",
    "        speed = 30000\n",
    "    if speed < -30000:\n",
    "        speed = -30000    \n",
    "    if steering > 2500:\n",
    "        steering = 2500\n",
    "    if steering < -2500:\n",
    "        steering = -2500    \n",
    "    bus_device.write(struct.pack('>hh', int(speed), int(steering)))\n",
    "    \n",
    "def car_stop():\n",
    "    bus_device.write(struct.pack('>hh', 0, 0))\n",
    "    \n",
    "def bgr8_to_jpeg(value, quality=75):\n",
    "    return bytes(cv2.imencode('.jpg', value)[1])\n",
    "\n",
    "# img = cv2.imread('1.jpg')\n",
    "\n",
    "image_widget = ipywidgets.Image(format='jpeg')\n",
    "image_widget3 = ipywidgets.Image(format='jpeg')\n",
    "image_widget2 = ipywidgets.Label('tong')\n",
    "image_widget2.value = 'number'\n",
    "\n",
    "display(image_widget3,image_widget,image_widget2)\n"
   ]
  },
  {
   "cell_type": "code",
   "execution_count": 10,
   "metadata": {},
   "outputs": [],
   "source": [
    "import time\n",
    "time10hz = 0\n",
    "time11hz = 0\n",
    "camera.running = True  \n",
    "time1 = 0\n",
    "outtong = 0\n",
    "landR = 0\n",
    "landB = 0\n",
    "land = 0\n",
    "speed = 10\n",
    "\n",
    "error = 0\n",
    "kp = 20\n",
    "kd = 50\n",
    "\n",
    "tonglan = 2\n",
    "\n",
    "speed_b = 200\n",
    "\n",
    "try:\n",
    "    while 1 :\n",
    "        if (time.time() - time10hz) > 0.033 :\n",
    "            time10hz = time.time()\n",
    "      \n",
    "            time2 = time1\n",
    "            time1 = time.time()\n",
    "            img2 = camera.value\n",
    "            orininal_h = img2.shape[0]\n",
    "            orininal_w = img2.shape[1]\n",
    "\n",
    "            output_width = 64\n",
    "            output_height = 64\n",
    "            input_width = 128\n",
    "            input_height = 128\n",
    "            n_classes = 6\n",
    "\n",
    "            x = get_image_array(img2, input_width, input_height, ordering=IMAGE_ORDERING)\n",
    "\n",
    "            pr = predict(x)\n",
    "#             time2 = time.time()\n",
    "            pr = pr.reshape((output_height,  output_width, n_classes)).argmax(axis=2)\n",
    "            tong1234 = find_target_point(pr,18,24)\n",
    "            landR = (tong1234[0][0])\n",
    "            landB = (tong1234[1][0])\n",
    "#             land = landR\n",
    "            if tong1234[2][0] == 1 and tonglan ==2  :\n",
    "                tonglan =1\n",
    "                speed = 1\n",
    "            if tong1234[2][0] == 2 and tonglan ==1 :\n",
    "                tonglan =2\n",
    "                speed = 1\n",
    "\n",
    "#                 speed = 200\n",
    "            if speed < speed_b :\n",
    "                speed = speed+2\n",
    "                kp = 40\n",
    "            else :\n",
    "                kp = 25\n",
    "            \n",
    "            if tonglan == 1 :\n",
    "                land = landR\n",
    "            if tonglan == 2 :\n",
    "                land = landB  \n",
    "            target = 80 -land \n",
    "            error_current = target \n",
    "            error_dot = error_current - error\n",
    "            error = error_current\n",
    "\n",
    "            output = error * kp + error_dot* kd\n",
    "            steering_angleout = output\n",
    "#             steering = lan - ()\n",
    "            if tong1234[0][0] != 0 or tong1234[1][0] != 0 :\n",
    "                if land != 0 :\n",
    "                    car_control(speed*1.5, steering_angleout)\n",
    "            \n",
    "            \n",
    "\n",
    "#             print(steering_angle)\n",
    "#             print(time2-time1)\n",
    "        if (time.time() - time11hz) > 0.2 :\n",
    "            time11hz = time.time()\n",
    "            seg_img = np.zeros((64, 64, 3))\n",
    "            colors = [(0, 0, 0),\n",
    "             (255, 0, 0),\n",
    "             (0, 255, 0),\n",
    "             (0, 0, 255),\n",
    "             (255, 255, 0),\n",
    "             (0, 242, 255)\n",
    "            ]\n",
    "\n",
    "            for c in range(6):\n",
    "                seg_img[:, :, 0] += ((pr[:, :] == c)*(colors[c][0])).astype('uint8')\n",
    "                seg_img[:, :, 1] += ((pr[:, :] == c)*(colors[c][1])).astype('uint8')\n",
    "                seg_img[:, :, 2] += ((pr[:, :] == c)*(colors[c][2])).astype('uint8')\n",
    "\n",
    "            seg_img = cv2.resize(seg_img, (320, 240))\n",
    "            seg_img = seg_img.astype('uint8')\n",
    "            seg_img_t  = seg_img[5:240,5:320]\n",
    "            seg_img_t = cv2.resize(seg_img_t,(320,240))\n",
    "            tong6789 = cv2.addWeighted(img2,0.2,seg_img_t,0.80,0)\n",
    "            image_widget.value = bgr8_to_jpeg(tong6789)\n",
    "#             image_widget3.value = bgr8_to_jpeg(img2)\n",
    "            image_widget2.value = 'fps'+str(1/(time1-time2))+ ' lanmR = '+str((tong1234[0][0])-80)+ ' lanmB = '+str((tong1234[1][0])-80) + ' OJ = '+str(target)\n",
    "#             image_widget2.value = 'fps'+str(1/(time1-time2))+' lanL = '+str(genx[0][5])+' lanR = '+str(genx[1][5])+'  avg = '+str(tonglan)\n",
    "            \n",
    "except KeyboardInterrupt:\n",
    "    car_control(10, steering_angleout)\n",
    "    time.sleep(0.5)\n",
    "    car_stop()\n",
    "    camera.running = False  "
   ]
  },
  {
   "cell_type": "code",
   "execution_count": 31,
   "metadata": {},
   "outputs": [],
   "source": [
    "camera.running = False"
   ]
  },
  {
   "cell_type": "code",
   "execution_count": 78,
   "metadata": {},
   "outputs": [],
   "source": [
    "def find_target_point(imag_1234,y_pol = 60):\n",
    "    xxxcccv =0 \n",
    "    xxxcccv_b =0 \n",
    "    px_x = 0\n",
    "    \n",
    "    path_geny = np.zeros((1,2))\n",
    "\n",
    "    px_x = 0\n",
    "    prx = imag_1234[y_pol:y_pol+1][0:64]\n",
    "    for c in range(len(prx[0])) :\n",
    "        xxxcccv = prx[0][c]\n",
    "        if xxxcccv == 4 and xxxcccv_b == 3 :\n",
    "            px_x = c\n",
    "#         elif xxxcccv == 5 and xxxcccv_b == 3\n",
    "        \n",
    "        xxxcccv_b = xxxcccv\n",
    "\n",
    "    if px_x != 0 :\n",
    "        _pts = np.float32([[[px_x*2.5, y_pol*1.875]]])\n",
    "        _dst = cv2.perspectiveTransform(_pts, perspective_M)\n",
    "        _dst = _dst[0][0]\n",
    "\n",
    "        path_geny[0][0] =_dst[0]\n",
    "        path_geny[0][1] =_dst[1]\n",
    "    else :\n",
    "        path_geny[0][0] =0\n",
    "        path_geny[0][1] =0\n",
    "    y_pol = y_pol+5\n",
    "    return  path_geny \n"
   ]
  },
  {
   "cell_type": "code",
   "execution_count": 24,
   "metadata": {},
   "outputs": [
    {
     "name": "stdout",
     "output_type": "stream",
     "text": [
      "[[ 59.33701324  27.        ]\n",
      " [130.20649719  17.        ]\n",
      " [  0.           0.        ]]\n"
     ]
    },
    {
     "data": {
      "image/png": "[encoded data removed]",
      "text/plain": [
       "<matplotlib.figure.Figure at 0x7e71cae1d0>"
      ]
     },
     "metadata": {
      "needs_background": "light"
     },
     "output_type": "display_data"
    }
   ],
   "source": [
    "camera.running = True  \n",
    "import matplotlib.pyplot as plt\n",
    "\n",
    "img2 = camera.value\n",
    "orininal_h = img2.shape[0]\n",
    "orininal_w = img2.shape[1]\n",
    "\n",
    "output_width = 64\n",
    "output_height = 64\n",
    "input_width = 128\n",
    "input_height = 128\n",
    "n_classes = 6\n",
    "\n",
    "x = get_image_array(img2, input_width, input_height, ordering=IMAGE_ORDERING)\n",
    "\n",
    "pr = predict(x)\n",
    "#             time2 = time.time()\n",
    "pr = pr.reshape((output_height,  output_width, n_classes)).argmax(axis=2)\n",
    "y_pol = 21\n",
    "imag_1234 = pr \n",
    "xxxcccv =0 \n",
    "xxxcccv_b =0 \n",
    "px_x = 0\n",
    "\n",
    "path_geny = np.zeros((3,2))\n",
    "\n",
    "px_x = 0\n",
    "OBJ5 = 0 \n",
    "OBJ5_num = 0\n",
    "LANDR = 0 \n",
    "LANDR_num = 0\n",
    "LANDB = 0 \n",
    "LANDB_num = 0\n",
    "\n",
    "y_pollan = 30\n",
    "\n",
    "prx = imag_1234[y_pol:y_pol+1][0:64]\n",
    "for c in range(len(prx[0])) :\n",
    "    xxxcccv = prx[0][c]\n",
    "\n",
    "    if imag_1234[y_pollan][c] == 4 :\n",
    "        LANDB_num=LANDB_num+1\n",
    "        LANDB = LANDB + c\n",
    "    if imag_1234[y_pollan][c] == 3 :\n",
    "        LANDR_num=LANDR_num+1\n",
    "        LANDR = LANDR + c\n",
    "    if xxxcccv == 5 :\n",
    "        OBJ5_num=OBJ5_num+1\n",
    "        OBJ5 = OBJ5+c\n",
    "\n",
    "if LANDR_num != 0 :\n",
    "    LANDR = LANDR/LANDR_num\n",
    "if LANDB_num != 0 :\n",
    "    LANDB = LANDB/LANDB_num\n",
    "if OBJ5_num != 0 :\n",
    "    OBJ5 = OBJ5/OBJ5_num\n",
    "    ypic = 64 - y_pol\n",
    "    for zxc in range(ypic) :\n",
    "        if(imag_1234[zxc+y_pol][int(OBJ5)] == 4) :\n",
    "            path_geny[2][0] = 1\n",
    "            break\n",
    "        if(imag_1234[zxc+y_pol][int(OBJ5)] == 3) :\n",
    "            path_geny[2][0] = 2\n",
    "            break\n",
    "\n",
    "# if px_x != 0 :\n",
    "_ptsR = np.float32([[[LANDR*2.5, y_pollan*1.875]]])\n",
    "_ptsB = np.float32([[[LANDB*2.5, y_pollan*1.875]]])\n",
    "_dstR = cv2.perspectiveTransform(_ptsR, PersTransform())\n",
    "_dstB = cv2.perspectiveTransform(_ptsB, PersTransform())\n",
    "_dstR = _dstR[0][0]\n",
    "_dstB = _dstB[0][0]\n",
    "\n",
    "if LANDR != 0 :\n",
    "    path_geny[0][0] =_dstR[0]\n",
    "    path_geny[0][1] = LANDR_num\n",
    "else :\n",
    "    path_geny[0][0] =0\n",
    "\n",
    "if LANDB != 0 :\n",
    "    path_geny[1][0] =_dstB[0]\n",
    "    path_geny[1][1] = LANDB_num\n",
    "else :\n",
    "    path_geny[1][0] =0\n",
    "    \n",
    "# y_pol = y_pol+5\n",
    "# prx = pr[22:22+1][0:64]\n",
    "plt.imshow(imag_1234)\n",
    "camera.running = False \n",
    "print(path_geny) "
   ]
  },
  {
   "cell_type": "code",
   "execution_count": 22,
   "metadata": {},
   "outputs": [
    {
     "data": {
      "text/plain": [
       "3"
      ]
     },
     "execution_count": 22,
     "metadata": {},
     "output_type": "execute_result"
    }
   ],
   "source": [
    "imag_1234[60][40]"
   ]
  },
  {
   "cell_type": "code",
   "execution_count": 367,
   "metadata": {},
   "outputs": [
    {
     "data": {
      "text/plain": [
       "<matplotlib.image.AxesImage at 0x7e44d91f28>"
      ]
     },
     "execution_count": 367,
     "metadata": {},
     "output_type": "execute_result"
    },
    {
     "data": {
      "image/png": "[encoded data removed]",
      "text/plain": [
       "<matplotlib.figure.Figure at 0x7e44e031d0>"
      ]
     },
     "metadata": {
      "needs_background": "light"
     },
     "output_type": "display_data"
    }
   ],
   "source": [
    "\n",
    "# BGRttt = cv2.cvtColor(canny, cv2.COLOR_GRAY2BGR)\n",
    "# # path_gen, pts_raw_y, pts_raw_w, img_thresh_y, img_thresh_w =lane_detection_all_image (BGRttt, y_thresh, w_thresh)\n",
    "\n",
    "y_thresh = 200\n",
    "w_thresh = 230\n",
    "\n",
    "seg_img = seg_img.astype('uint8')\n",
    "seg_img_t = seg_img[5:240,5:320]\n",
    "image_t = cv2.resize(seg_img_t,(160,120), interpolation = cv2.INTER_LINEAR)\n",
    "top_downtong = corners_unwarp(image_t, mtx, dist, perspective_M)\n",
    "img_thresh_l = thresholdIMG_L(top_downtong, y_thresh)\n",
    "img_thresh_r = thresholdIMG_R(top_downtong, w_thresh)\n",
    "pts_raw_l, img_thresh_l = findLane_160_Y(img_thresh_l, visualise = False)\n",
    "pts_raw_r, img_thresh_r = findLane_160_W(img_thresh_r, visualise = False)  \n",
    "pts_raw_l = pts_raw_l.reshape((int(pts_raw_l.size/3),3))\n",
    "pts_raw_r = pts_raw_r.reshape((int(pts_raw_r.size/3),3))\n",
    "\n",
    "    \n",
    "image_widget.value = bgr8_to_jpeg(image)\n",
    "import matplotlib.pyplot as plt\n",
    "plt.imshow(img_thresh_r)"
   ]
  },
  {
   "cell_type": "code",
   "execution_count": 374,
   "metadata": {},
   "outputs": [],
   "source": [
    "camera.running = False \n"
   ]
  },
  {
   "cell_type": "code",
   "execution_count": null,
   "metadata": {},
   "outputs": [],
   "source": [
    "image = cv2.resize(image,(160,120), interpolation = cv2.INTER_LINEAR)\n"
   ]
  },
  {
   "cell_type": "code",
   "execution_count": 353,
   "metadata": {},
   "outputs": [
    {
     "data": {
      "text/plain": [
       "<matplotlib.image.AxesImage at 0x7e450f2748>"
      ]
     },
     "execution_count": 353,
     "metadata": {},
     "output_type": "execute_result"
    },
    {
     "data": {
      "image/png": "[encoded data removed]",
      "text/plain": [
       "<matplotlib.figure.Figure at 0x7e452dd4a8>"
      ]
     },
     "metadata": {
      "needs_background": "light"
     },
     "output_type": "display_data"
    }
   ],
   "source": [
    "ho = 150\n",
    "\n",
    "image2 = cv2.resize(image2,(160,120))\n",
    "\n",
    "lab = cv2.cvtColor(top_downtong, cv2.COLOR_BGR2LAB).astype(np.float)\n",
    "y_channel = lab[:,:,1]\n",
    "y_binary = np.zeros_like(y_channel)\n",
    "y_binary[(y_channel<=ho)] = 1\n",
    "\n",
    "import matplotlib.pyplot as plt\n",
    "plt.imshow(y_channel)"
   ]
  },
  {
   "cell_type": "code",
   "execution_count": 283,
   "metadata": {},
   "outputs": [
    {
     "data": {
      "text/plain": [
       "<matplotlib.image.AxesImage at 0x7e46655c18>"
      ]
     },
     "execution_count": 283,
     "metadata": {},
     "output_type": "execute_result"
    },
    {
     "data": {
      "image/png": "[encoded data removed]",
      "text/plain": [
       "<matplotlib.figure.Figure at 0x7e46683a58>"
      ]
     },
     "metadata": {
      "needs_background": "light"
     },
     "output_type": "display_data"
    }
   ],
   "source": [
    "ho = 150\n",
    "image2 = image[5:120,5:160]\n",
    "image2 = cv2.resize(image2,(160,120))\n",
    "lab = cv2.cvtColor(image2, cv2.COLOR_BGR2LAB).astype(np.float)\n",
    "y_channel = lab[:,:,0]\n",
    "y_binary = np.zeros_like(y_channel)\n",
    "y_binary[(y_channel<=ho)] = 1\n",
    "\n",
    "import matplotlib.pyplot as plt\n",
    "plt.imshow(y_binary)"
   ]
  },
  {
   "cell_type": "code",
   "execution_count": null,
   "metadata": {},
   "outputs": [],
   "source": []
  },
  {
   "cell_type": "code",
   "execution_count": 59,
   "metadata": {},
   "outputs": [],
   "source": [
    "camera.running = False "
   ]
  },
  {
   "cell_type": "code",
   "execution_count": 13,
   "metadata": {},
   "outputs": [],
   "source": []
  },
  {
   "cell_type": "code",
   "execution_count": null,
   "metadata": {},
   "outputs": [],
   "source": [
    "\n",
    "\n",
    "def thresholdIMG_R(img, y_thresh = 200):\n",
    "\n",
    "    # Convert to LAB color space, and use the B channel (yellow)\n",
    "    lab = cv2.cvtColor(img, cv2.COLOR_BGR2LAB).astype(np.float)\n",
    "    y_channel = lab[:,:,0]\n",
    "    y_binary = np.zeros_like(y_channel)\n",
    "    y_binary[(y_channel>=y_thresh)] = 1\n",
    "\n",
    "    return y_binary\n",
    "\n",
    "def thresholdIMG_L(img, w_thresh = 230):\n",
    "\n",
    "    lab = cv2.cvtColor(img, cv2.COLOR_BGR2LAB).astype(np.float)\n",
    "    w_channel = lab[:,:,1]\n",
    "    w_binary = np.zeros_like(w_channel)\n",
    "    w_binary[(w_channel>=w_thresh)] = 1\n",
    "    \n",
    "    return w_binary\n",
    "\n",
    "def detection_image (image, l_level = 200, r_level = 230):\n",
    "    image_t = cv2.resize(image,(160,120), interpolation = cv2.INTER_LINEAR)\n",
    "    top_downtong = corners_unwarp(image_t, mtx, dist, perspective_M)\n",
    "    img_thresh_l = thresholdIMG_L(top_downtong, l_level)\n",
    "    img_thresh_r = thresholdIMG_R(top_downtong, r_level)\n",
    "    pts_raw_l, img_thresh_l = findLane_160_Y(img_thresh_l, visualise = False)\n",
    "    pts_raw_r, img_thresh_r = findLane_160_W(img_thresh_r, visualise = False)  \n",
    "    pts_raw_l = pts_raw_l.reshape((int(pts_raw_l.size/3),3))\n",
    "    pts_raw_r = pts_raw_r.reshape((int(pts_raw_r.size/3),3))\n",
    "\n",
    "    path_gen = np.zeros((6,8))\n",
    "    position_from_l = -1\n",
    "    position_from_r = -1\n",
    "    for y_step in range(8):    \n",
    "\n",
    "        for x_step_y in range(pts_raw_l.shape[0]):  \n",
    "            if pts_raw_l[x_step_y,0] == y_step :\n",
    "                position_from_l = pts_raw_l[x_step_y,1]\n",
    "\n",
    "        for x_step_w in range(pts_raw_r.shape[0]):  \n",
    "            if pts_raw_r[x_step_w,0] == y_step :\n",
    "                position_from_r = pts_raw_r[x_step_w,1]\n",
    "\n",
    "        avg_num = 0\n",
    "        avg_value = 0\n",
    "        if position_from_l >= 0 :\n",
    "            avg_num = avg_num + 1 \n",
    "            avg_value = avg_value +  position_from_l \n",
    "            avg_num = avg_num + 1 \n",
    "            avg_value = avg_value +  position_from_l \n",
    "\n",
    "\n",
    "        path_gen[0,y_step] = 0\n",
    "        path_gen[4, y_step] = 0\n",
    "        if avg_num > 0:\n",
    "            path_gen[0, y_step] = avg_value/avg_num\n",
    "            path_gen[4, y_step] = 1\n",
    "\n",
    "        avg_num2 = 0\n",
    "        avg_value2 = 0\n",
    "        if position_from_r >= 0 :\n",
    "            avg_num2 = avg_num2 + 1 \n",
    "            avg_value = avg_value + position_from_r \n",
    "            avg_num2 = avg_num2 + 1 \n",
    "            avg_value = avg_value + position_from_r \n",
    "\n",
    "        path_gen[1,y_step] = 0\n",
    "        path_gen[5, y_step] = 0\n",
    "        if avg_num2 > 0:\n",
    "            path_gen[1, y_step] = avg_value/avg_num2\n",
    "            path_gen[5, y_step] = 1\n",
    "\n",
    "    tong_x = 0\n",
    "    tong_avg = 0\n",
    "    if path_gen[4][5] == 1 :\n",
    "        tong_x = ((55+path_gen[0][5])-80)\n",
    "        tong_avg = tong_avg+1\n",
    "    if path_gen[5][5] == 1 :\n",
    "        tong_x = ((path_gen[1][5] - 55)-80)\n",
    "        tong_avg = tong_avg+1\n",
    "        \n",
    "    tong_x = tong_x/tong_avg\n",
    "    \n",
    "    return tong_x,path_gen"
   ]
  }
 ],
 "metadata": {
  "kernelspec": {
   "display_name": "Python 3",
   "language": "python",
   "name": "python3"
  },
  "language_info": {
   "codemirror_mode": {
    "name": "ipython",
    "version": 3
   },
   "file_extension": ".py",
   "mimetype": "text/x-python",
   "name": "python",
   "nbconvert_exporter": "python",
   "pygments_lexer": "ipython3",
   "version": "3.6.9"
  }
 },
 "nbformat": 4,
 "nbformat_minor": 4
}
